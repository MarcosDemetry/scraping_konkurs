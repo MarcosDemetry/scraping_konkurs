{
 "cells": [
  {
   "cell_type": "markdown",
   "metadata": {},
   "source": [
    "# Exploring Firm Bankruptcy Data 2020"
   ]
  },
  {
   "cell_type": "code",
   "execution_count": 3,
   "metadata": {},
   "outputs": [],
   "source": [
    "import os\n",
    "from pathlib import Path\n",
    "\n",
    "## Setting CWD\n",
    "cwd = os.getcwd()\n",
    "root = Path(cwd).parents[0]\n",
    "datadir = str(Path(root)) + str('/data')\n",
    "outputdir = str(Path(root)) + str('/output')"
   ]
  },
  {
   "cell_type": "code",
   "execution_count": 56,
   "metadata": {},
   "outputs": [
    {
     "name": "stdout",
     "output_type": "stream",
     "text": [
      "<class 'pandas.core.frame.DataFrame'>\n",
      "RangeIndex: 3895 entries, 0 to 3894\n",
      "Data columns (total 10 columns):\n",
      " #   Column     Non-Null Count  Dtype  \n",
      "---  ------     --------------  -----  \n",
      " 0   name       3895 non-null   object \n",
      " 1   link       3895 non-null   object \n",
      " 2   orgnr      3895 non-null   int64  \n",
      " 3   info1      3895 non-null   object \n",
      " 4   info2      3895 non-null   object \n",
      " 5   date       3895 non-null   object \n",
      " 6   ort        3881 non-null   object \n",
      " 7   revenue    3895 non-null   object \n",
      " 8   employees  3818 non-null   float64\n",
      " 9   month      3895 non-null   object \n",
      "dtypes: float64(1), int64(1), object(8)\n",
      "memory usage: 304.4+ KB\n"
     ]
    }
   ],
   "source": [
    "import pandas as pd\n",
    "\n",
    "infile = datadir + \"/clean_konkurs_data.csv\"\n",
    "df = pd.read_csv(infile, header=0)\n",
    "\n",
    "df['month'] = df['date'].str.extract(r'\\d{4}-(\\d{2})-\\d{2}')\n",
    "\n",
    "df.info()"
   ]
  },
  {
   "cell_type": "markdown",
   "metadata": {},
   "source": [
    "## Number of foreclosures per month"
   ]
  },
  {
   "cell_type": "code",
   "execution_count": 97,
   "metadata": {},
   "outputs": [
    {
     "data": {
      "image/png": "[encoded data removed]",
      "text/plain": [
       "<Figure size 432x288 with 1 Axes>"
      ]
     },
     "metadata": {
      "needs_background": "light"
     },
     "output_type": "display_data"
    }
   ],
   "source": [
    "from matplotlib import pyplot as plt\n",
    "\n",
    "df.groupby('month')['orgnr'].count().plot(kind='bar')\n",
    "plt.show()"
   ]
  },
  {
   "cell_type": "code",
   "execution_count": 102,
   "metadata": {},
   "outputs": [
    {
     "data": {
      "text/html": [
       "<div>\n",
       "<style scoped>\n",
       "    .dataframe tbody tr th:only-of-type {\n",
       "        vertical-align: middle;\n",
       "    }\n",
       "\n",
       "    .dataframe tbody tr th {\n",
       "        vertical-align: top;\n",
       "    }\n",
       "\n",
       "    .dataframe thead tr th {\n",
       "        text-align: left;\n",
       "    }\n",
       "\n",
       "    .dataframe thead tr:last-of-type th {\n",
       "        text-align: right;\n",
       "    }\n",
       "</style>\n",
       "<table border=\"1\" class=\"dataframe\">\n",
       "  <thead>\n",
       "    <tr>\n",
       "      <th></th>\n",
       "      <th colspan=\"8\" halign=\"left\">employees</th>\n",
       "    </tr>\n",
       "    <tr>\n",
       "      <th></th>\n",
       "      <th>count</th>\n",
       "      <th>mean</th>\n",
       "      <th>std</th>\n",
       "      <th>min</th>\n",
       "      <th>25%</th>\n",
       "      <th>50%</th>\n",
       "      <th>75%</th>\n",
       "      <th>max</th>\n",
       "    </tr>\n",
       "    <tr>\n",
       "      <th>month</th>\n",
       "      <th></th>\n",
       "      <th></th>\n",
       "      <th></th>\n",
       "      <th></th>\n",
       "      <th></th>\n",
       "      <th></th>\n",
       "      <th></th>\n",
       "      <th></th>\n",
       "    </tr>\n",
       "  </thead>\n",
       "  <tbody>\n",
       "    <tr>\n",
       "      <th>01</th>\n",
       "      <td>528.0</td>\n",
       "      <td>-1.746851e+16</td>\n",
       "      <td>4.013957e+17</td>\n",
       "      <td>-9.223372e+18</td>\n",
       "      <td>0.0</td>\n",
       "      <td>1.0</td>\n",
       "      <td>3.0</td>\n",
       "      <td>292.0</td>\n",
       "    </tr>\n",
       "    <tr>\n",
       "      <th>02</th>\n",
       "      <td>524.0</td>\n",
       "      <td>3.795802e+00</td>\n",
       "      <td>1.160530e+01</td>\n",
       "      <td>0.000000e+00</td>\n",
       "      <td>0.0</td>\n",
       "      <td>1.0</td>\n",
       "      <td>3.0</td>\n",
       "      <td>139.0</td>\n",
       "    </tr>\n",
       "    <tr>\n",
       "      <th>03</th>\n",
       "      <td>669.0</td>\n",
       "      <td>-4.136041e+16</td>\n",
       "      <td>6.167174e+17</td>\n",
       "      <td>-9.223372e+18</td>\n",
       "      <td>0.0</td>\n",
       "      <td>1.0</td>\n",
       "      <td>3.0</td>\n",
       "      <td>245.0</td>\n",
       "    </tr>\n",
       "    <tr>\n",
       "      <th>04</th>\n",
       "      <td>798.0</td>\n",
       "      <td>-3.120690e+17</td>\n",
       "      <td>1.668661e+18</td>\n",
       "      <td>-9.223372e+18</td>\n",
       "      <td>0.0</td>\n",
       "      <td>1.0</td>\n",
       "      <td>3.0</td>\n",
       "      <td>551.0</td>\n",
       "    </tr>\n",
       "    <tr>\n",
       "      <th>05</th>\n",
       "      <td>670.0</td>\n",
       "      <td>-1.376623e+16</td>\n",
       "      <td>3.563299e+17</td>\n",
       "      <td>-9.223372e+18</td>\n",
       "      <td>0.0</td>\n",
       "      <td>0.0</td>\n",
       "      <td>2.0</td>\n",
       "      <td>114.0</td>\n",
       "    </tr>\n",
       "    <tr>\n",
       "      <th>06</th>\n",
       "      <td>584.0</td>\n",
       "      <td>-6.001509e+17</td>\n",
       "      <td>2.276864e+18</td>\n",
       "      <td>-9.223372e+18</td>\n",
       "      <td>0.0</td>\n",
       "      <td>0.0</td>\n",
       "      <td>2.0</td>\n",
       "      <td>362.0</td>\n",
       "    </tr>\n",
       "    <tr>\n",
       "      <th>07</th>\n",
       "      <td>122.0</td>\n",
       "      <td>-5.292099e+17</td>\n",
       "      <td>2.153848e+18</td>\n",
       "      <td>-9.223372e+18</td>\n",
       "      <td>0.0</td>\n",
       "      <td>0.0</td>\n",
       "      <td>1.0</td>\n",
       "      <td>47.0</td>\n",
       "    </tr>\n",
       "  </tbody>\n",
       "</table>\n",
       "</div>"
      ],
      "text/plain": [
       "      employees                                                           \\\n",
       "          count          mean           std           min  25%  50%  75%   \n",
       "month                                                                      \n",
       "01        528.0 -1.746851e+16  4.013957e+17 -9.223372e+18  0.0  1.0  3.0   \n",
       "02        524.0  3.795802e+00  1.160530e+01  0.000000e+00  0.0  1.0  3.0   \n",
       "03        669.0 -4.136041e+16  6.167174e+17 -9.223372e+18  0.0  1.0  3.0   \n",
       "04        798.0 -3.120690e+17  1.668661e+18 -9.223372e+18  0.0  1.0  3.0   \n",
       "05        670.0 -1.376623e+16  3.563299e+17 -9.223372e+18  0.0  0.0  2.0   \n",
       "06        584.0 -6.001509e+17  2.276864e+18 -9.223372e+18  0.0  0.0  2.0   \n",
       "07        122.0 -5.292099e+17  2.153848e+18 -9.223372e+18  0.0  0.0  1.0   \n",
       "\n",
       "              \n",
       "         max  \n",
       "month         \n",
       "01     292.0  \n",
       "02     139.0  \n",
       "03     245.0  \n",
       "04     551.0  \n",
       "05     114.0  \n",
       "06     362.0  \n",
       "07      47.0  "
      ]
     },
     "execution_count": 102,
     "metadata": {},
     "output_type": "execute_result"
    }
   ],
   "source": [
    "df[['month','employees']].groupby('month').describe()"
   ]
  }
 ],
 "metadata": {
  "kernelspec": {
   "display_name": "Python 3",
   "language": "python",
   "name": "python3"
  },
  "language_info": {
   "codemirror_mode": {
    "name": "ipython",
    "version": 3
   },
   "file_extension": ".py",
   "mimetype": "text/x-python",
   "name": "python",
   "nbconvert_exporter": "python",
   "pygments_lexer": "ipython3",
   "version": "3.7.6"
  }
 },
 "nbformat": 4,
 "nbformat_minor": 4
}
